{
  "nbformat": 4,
  "nbformat_minor": 0,
  "metadata": {
    "colab": {
      "name": "Data Mining sheet 4.ipynb",
      "version": "0.3.2",
      "provenance": [],
      "include_colab_link": true
    },
    "kernelspec": {
      "name": "python3",
      "display_name": "Python 3"
    }
  },
  "cells": [
    {
      "cell_type": "markdown",
      "metadata": {
        "id": "view-in-github",
        "colab_type": "text"
      },
      "source": [
        "<a href=\"https://colab.research.google.com/github/Dahlia-Chehata/Data-Mining/blob/master/Lab%204/Data_Mining_sheet_4.ipynb\" target=\"_parent\"><img src=\"https://colab.research.google.com/assets/colab-badge.svg\" alt=\"Open In Colab\"/></a>"
      ]
    },
    {
      "metadata": {
        "id": "O_0Um4TmW-jj",
        "colab_type": "text"
      },
      "cell_type": "markdown",
      "source": [
        "**Question 3-3-a**\n",
        "\n",
        "Same solution as the previous question 3-2"
      ]
    },
    {
      "metadata": {
        "id": "f34yle6BWc0n",
        "colab_type": "code",
        "colab": {
          "base_uri": "https://localhost:8080/",
          "height": 54
        },
        "outputId": "d722a112-3265-42cc-d293-baad32bf8d4c"
      },
      "cell_type": "code",
      "source": [
        "import matplotlib.pyplot as plt\n",
        "import numpy as np\n",
        "from sklearn import datasets, linear_model\n",
        "from sklearn.metrics import mean_squared_error, r2_score\n",
        "from sklearn.linear_model import Ridge\n",
        "x1 = [1,2,2,2,3,3,4,4,4,5]\n",
        "x2 = [5,6,10,12,17,12,6,5,7,10]\n",
        "y = [10,40,50,60,70,50,30,20,40,70]\n",
        "X = [x1, x2]\n",
        "reg = linear_model.LinearRegression()\n",
        "reg.fit(np.array(X).transpose(), y)\n",
        "coeffs = reg.coef_\n",
        "a = reg.intercept_\n",
        "print(\"Estimated coefficients: ( coeffs[0] = \" ,coeffs[0] , \"   coeffs[1] = \" , coeffs[1] , \"  ) \" ) \n",
        "print(\"Intercept = \" , a)"
      ],
      "execution_count": 1,
      "outputs": [
        {
          "output_type": "stream",
          "text": [
            "Estimated coefficients: ( coeffs[0] =  4.285714285714283    coeffs[1] =  4.3478260869565215   ) \n",
            "Intercept =  -7.987577639751542\n"
          ],
          "name": "stdout"
        }
      ]
    },
    {
      "metadata": {
        "id": "avyeJmDAXRG4",
        "colab_type": "text"
      },
      "cell_type": "markdown",
      "source": [
        "**Question 3-3-b**\n",
        "\n"
      ]
    },
    {
      "metadata": {
        "id": "R8kTed41XVPA",
        "colab_type": "code",
        "colab": {
          "base_uri": "https://localhost:8080/",
          "height": 308
        },
        "outputId": "aff430f9-2eb2-47d4-fc52-37f05daeb082"
      },
      "cell_type": "code",
      "source": [
        "alpha = [0.1,1,10,100]\n",
        "equation = [\"\" for x in range(4)]\n",
        "for i in range(len(alpha)):\n",
        "  clf = Ridge(alpha[i])\n",
        "  clf.fit(np.array(X).transpose(), y)\n",
        "  b = clf.coef_\n",
        "  c = clf.intercept_\n",
        "  print(\"alpha = \",alpha[i])\n",
        "  print(\"Estimated coefficients: ( coeffs[0] = \" ,b[0] , \"   coeffs[1] = \" , b[1] , \"  ) \" ) \n",
        "  print(\"Intercept =  \" , c)\n",
        "  equation [i]='{0}*x1+{1}*x2+({2})'.format(b[0],b[1], c)\n",
        "  print(\"equation :\"+ equation[i])\n"
      ],
      "execution_count": 40,
      "outputs": [
        {
          "output_type": "stream",
          "text": [
            "alpha =  0.1\n",
            "Estimated coefficients: ( coeffs[0] =  4.25531914893617    coeffs[1] =  4.34467776973208   ) \n",
            "Intercept =   -7.868057374397225\n",
            "equation :4.25531914893617*x1+4.34467776973208*x2+(-7.868057374397225)\n",
            "alpha =  1\n",
            "Estimated coefficients: ( coeffs[0] =  3.999999999999999    coeffs[1] =  4.316546762589928   ) \n",
            "Intercept =   -6.8489208633093455\n",
            "equation :3.999999999999999*x1+4.316546762589928*x2+(-6.8489208633093455)\n",
            "alpha =  10\n",
            "Estimated coefficients: ( coeffs[0] =  2.500000000000001    coeffs[1] =  4.054054054054054   ) \n",
            "Intercept =   0.013513513513508713\n",
            "equation :2.500000000000001*x1+4.054054054054054*x2+(0.013513513513508713)\n",
            "alpha =  100\n",
            "Estimated coefficients: ( coeffs[0] =  0.5263157894736843    coeffs[1] =  2.5210084033613445   ) \n",
            "Intercept =   19.73197700132685\n",
            "equation :0.5263157894736843*x1+2.5210084033613445*x2+(19.73197700132685)\n"
          ],
          "name": "stdout"
        }
      ]
    },
    {
      "metadata": {
        "id": "QBm8ULhfZTq_",
        "colab_type": "text"
      },
      "cell_type": "markdown",
      "source": [
        "**Question 3-4  : \n",
        "**\n",
        "**Solved using 2 approaches:  **\n",
        "1.    perdict the values directly from the model\n",
        "2.     use the computed coefficients and intercept and substitute                                                        in equations\n",
        "\n"
      ]
    },
    {
      "metadata": {
        "id": "lkKia1KqcMrt",
        "colab_type": "text"
      },
      "cell_type": "markdown",
      "source": [
        "**Approach 1**"
      ]
    },
    {
      "metadata": {
        "id": "PI-WrgjPZX_q",
        "colab_type": "code",
        "colab": {
          "base_uri": "https://localhost:8080/",
          "height": 199
        },
        "outputId": "14348f58-33cb-44d7-d9f7-0e290b5e4841"
      },
      "cell_type": "code",
      "source": [
        "p1 = [3,16]\n",
        "p2 = [2,4]\n",
        "p3 = [5,4]\n",
        "P = [p1, p2, p3]\n",
        "print(\"p1, p2, p3 with linear regression = \")\n",
        "print(reg.predict(P))\n",
        "alpha = [0.1,1,10,100]\n",
        "for i in range(len(alpha)):\n",
        "  clf = Ridge(alpha[i])\n",
        "  clf.fit(np.array(X).transpose(), y)\n",
        "  print(\"p1, p2, p3 after L-2 regularization at alpha = \",alpha[i])\n",
        "  print(clf.predict(P))"
      ],
      "execution_count": 14,
      "outputs": [
        {
          "output_type": "stream",
          "text": [
            "p1, p2, p3 with linear regression = \n",
            "[74.43478261 17.97515528 30.83229814]\n",
            "p1, p2, p3 after L-2 regularization at alpha =  0.1\n",
            "[74.41274439 18.021292   30.78724945]\n",
            "p1, p2, p3 after L-2 regularization at alpha =  1\n",
            "[74.21582734 18.41726619 30.41726619]\n",
            "p1, p2, p3 after L-2 regularization at alpha =  10\n",
            "[72.37837838 21.22972973 28.72972973]\n",
            "p1, p2, p3 after L-2 regularization at alpha =  100\n",
            "[61.64705882 30.86864219 32.44758956]\n"
          ],
          "name": "stdout"
        }
      ]
    },
    {
      "metadata": {
        "id": "FIjwXmmccR4C",
        "colab_type": "text"
      },
      "cell_type": "markdown",
      "source": [
        "**Approach 2**\n"
      ]
    },
    {
      "metadata": {
        "id": "2OkQWBKVcVFO",
        "colab_type": "code",
        "colab": {
          "base_uri": "https://localhost:8080/",
          "height": 2854
        },
        "outputId": "66cae9fd-dca6-4ebd-99ca-f3aa48b2f83d"
      },
      "cell_type": "code",
      "source": [
        "import sympy\n",
        "\n",
        "equation.append('{0}*x1+{1}*x2+({2})'.format(coeffs[0],coeffs[1], reg.intercept_))\n",
        "\n",
        "def eval_eqn(eqn,in_dict):\n",
        "    subs = {sympy.symbols(key):item for key,item in in_dict.items()}\n",
        "    ans = sympy.simplify(eqn).evalf(subs = subs)\n",
        "\n",
        "    return ans\n",
        "def print_dict (dict): \n",
        "  print (\"point :\")\n",
        "  for keys,values in dict.items():\n",
        "    print(keys, \" = \",values)\n",
        "  \n",
        "in_dict = [\"\" for x in range(3)]  \n",
        "  \n",
        "in_dict[0] = {\"x1\":3,\"x2\":16}\n",
        "in_dict[1] = {\"x1\":2,\"x2\":4}\n",
        "in_dict[2] = {\"x1\":5,\"x2\":4}\n",
        "\n",
        "\n",
        "for i in range (len(equation)):\n",
        "  print ( \"equation : y = \"+ equation[i])\n",
        "  for j in range (len(in_dict)):\n",
        "    print_dict(in_dict[j])\n",
        "    print(eval_eqn(equation[i],in_dict[j]))\n",
        "\n",
        "  "
      ],
      "execution_count": 55,
      "outputs": [
        {
          "output_type": "stream",
          "text": [
            "equation : y = 4.25531914893617*x1+4.34467776973208*x2+(-7.868057374397225)\n",
            "point :\n",
            "x1  =  3\n",
            "x2  =  16\n",
            "74.4127443881246\n",
            "point :\n",
            "x1  =  2\n",
            "x2  =  4\n",
            "18.0212920024034\n",
            "point :\n",
            "x1  =  5\n",
            "x2  =  4\n",
            "30.7872494492119\n",
            "equation : y = 3.999999999999999*x1+4.316546762589928*x2+(-6.8489208633093455)\n",
            "point :\n",
            "x1  =  3\n",
            "x2  =  16\n",
            "74.2158273381295\n",
            "point :\n",
            "x1  =  2\n",
            "x2  =  4\n",
            "18.4172661870504\n",
            "point :\n",
            "x1  =  5\n",
            "x2  =  4\n",
            "30.4172661870504\n",
            "equation : y = 2.500000000000001*x1+4.054054054054054*x2+(0.013513513513508713)\n",
            "point :\n",
            "x1  =  3\n",
            "x2  =  16\n",
            "72.3783783783784\n",
            "point :\n",
            "x1  =  2\n",
            "x2  =  4\n",
            "21.2297297297297\n",
            "point :\n",
            "x1  =  5\n",
            "x2  =  4\n",
            "28.7297297297297\n",
            "equation : y = 0.5263157894736843*x1+2.5210084033613445*x2+(19.73197700132685)\n",
            "point :\n",
            "x1  =  3\n",
            "x2  =  16\n",
            "61.6470588235294\n",
            "point :\n",
            "x1  =  2\n",
            "x2  =  4\n",
            "30.8686421937196\n",
            "point :\n",
            "x1  =  5\n",
            "x2  =  4\n",
            "32.4475895621406\n",
            "equation : y = 4.285714285714283*x1+4.3478260869565215*x2+(-7.987577639751542)\n",
            "point :\n",
            "x1  =  3\n",
            "x2  =  16\n",
            "74.4347826086957\n",
            "point :\n",
            "x1  =  2\n",
            "x2  =  4\n",
            "17.9751552795031\n",
            "point :\n",
            "x1  =  5\n",
            "x2  =  4\n",
            "30.8322981366460\n",
            "equation : y = 4.285714285714283*x1+4.3478260869565215*x2+(-7.987577639751542)\n",
            "point :\n",
            "x1  =  3\n",
            "x2  =  16\n",
            "74.4347826086957\n",
            "point :\n",
            "x1  =  2\n",
            "x2  =  4\n",
            "17.9751552795031\n",
            "point :\n",
            "x1  =  5\n",
            "x2  =  4\n",
            "30.8322981366460\n",
            "equation : y = 4.285714285714283*x1+4.3478260869565215*x2+(-7.987577639751542)\n",
            "point :\n",
            "x1  =  3\n",
            "x2  =  16\n",
            "74.4347826086957\n",
            "point :\n",
            "x1  =  2\n",
            "x2  =  4\n",
            "17.9751552795031\n",
            "point :\n",
            "x1  =  5\n",
            "x2  =  4\n",
            "30.8322981366460\n",
            "equation : y = 4.285714285714283*x1+4.3478260869565215*x2+(-7.987577639751542)\n",
            "point :\n",
            "x1  =  3\n",
            "x2  =  16\n",
            "74.4347826086957\n",
            "point :\n",
            "x1  =  2\n",
            "x2  =  4\n",
            "17.9751552795031\n",
            "point :\n",
            "x1  =  5\n",
            "x2  =  4\n",
            "30.8322981366460\n",
            "equation : y = 4.285714285714283*x1+4.3478260869565215*x2+(-7.987577639751542)\n",
            "point :\n",
            "x1  =  3\n",
            "x2  =  16\n",
            "74.4347826086957\n",
            "point :\n",
            "x1  =  2\n",
            "x2  =  4\n",
            "17.9751552795031\n",
            "point :\n",
            "x1  =  5\n",
            "x2  =  4\n",
            "30.8322981366460\n",
            "equation : y = 4.285714285714283*x1+4.3478260869565215*x2+(-7.987577639751542)\n",
            "point :\n",
            "x1  =  3\n",
            "x2  =  16\n",
            "74.4347826086957\n",
            "point :\n",
            "x1  =  2\n",
            "x2  =  4\n",
            "17.9751552795031\n",
            "point :\n",
            "x1  =  5\n",
            "x2  =  4\n",
            "30.8322981366460\n",
            "equation : y = 4.285714285714283*x1+4.3478260869565215*x2+(-7.987577639751542)\n",
            "point :\n",
            "x1  =  3\n",
            "x2  =  16\n",
            "74.4347826086957\n",
            "point :\n",
            "x1  =  2\n",
            "x2  =  4\n",
            "17.9751552795031\n",
            "point :\n",
            "x1  =  5\n",
            "x2  =  4\n",
            "30.8322981366460\n",
            "equation : y = 4.285714285714283*x1+4.3478260869565215*x2+(-7.987577639751542)\n",
            "point :\n",
            "x1  =  3\n",
            "x2  =  16\n",
            "74.4347826086957\n",
            "point :\n",
            "x1  =  2\n",
            "x2  =  4\n",
            "17.9751552795031\n",
            "point :\n",
            "x1  =  5\n",
            "x2  =  4\n",
            "30.8322981366460\n"
          ],
          "name": "stdout"
        }
      ]
    }
  ]
}